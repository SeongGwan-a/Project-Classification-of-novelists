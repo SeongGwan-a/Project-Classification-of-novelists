{
  "nbformat": 4,
  "nbformat_minor": 0,
  "metadata": {
    "colab": {
      "name": "DNN.ipynb",
      "provenance": [],
      "include_colab_link": true
    },
    "kernelspec": {
      "name": "python3",
      "display_name": "Python 3"
    },
    "accelerator": "GPU"
  },
  "cells": [
    {
      "cell_type": "markdown",
      "metadata": {
        "id": "view-in-github",
        "colab_type": "text"
      },
      "source": [
        "<a href=\"https://colab.research.google.com/github/SeongGwan-a/Project-Classification-of-novelists/blob/main/DNN/DNN.ipynb\" target=\"_parent\"><img src=\"https://colab.research.google.com/assets/colab-badge.svg\" alt=\"Open In Colab\"/></a>"
      ]
    },
    {
      "cell_type": "code",
      "metadata": {
        "colab": {
          "base_uri": "https://localhost:8080/"
        },
        "id": "XBQKotIxFuP2",
        "outputId": "094a3f85-191e-41c9-988f-6abe7d88b40f"
      },
      "source": [
        "# 라이브러리 불러오기\n",
        "import numpy as np; import pandas as pd\n",
        "from collections import defaultdict\n",
        "\n",
        "import torch\n",
        "import keras\n",
        "import keras.backend as K\n",
        "from keras.layers import Dense, GlobalAveragePooling1D, Embedding, BatchNormalization\n",
        "from keras.callbacks import EarlyStopping\n",
        "from keras.models import Sequential\n",
        "from keras.preprocessing.sequence import pad_sequences\n",
        "from keras.preprocessing.text import Tokenizer\n",
        "from keras.utils import to_categorical\n",
        "\n",
        "from sklearn.model_selection import train_test_split\n",
        "from nltk import word_tokenize\n",
        "import nltk\n",
        "nltk.download('stopwords')\n",
        "from nltk.corpus import stopwords\n",
        "stop_words = stopwords.words('english')"
      ],
      "execution_count": null,
      "outputs": [
        {
          "output_type": "stream",
          "text": [
            "[nltk_data] Downloading package stopwords to /root/nltk_data...\n",
            "[nltk_data]   Package stopwords is already up-to-date!\n"
          ],
          "name": "stdout"
        }
      ]
    },
    {
      "cell_type": "code",
      "metadata": {
        "id": "saqxjoFbF1vW"
      },
      "source": [
        "# 데이터 불러오기\n",
        "url_train      = 'https://raw.githubusercontent.com/moch1996/firststep/master/train.csv'\n",
        "url_test       = 'https://raw.githubusercontent.com/moch1996/firststep/master/test_x.csv'\n",
        "url_submission = 'https://raw.githubusercontent.com/moch1996/firststep/master/sample_submission.csv'\n",
        "\n",
        "\n",
        "train             = pd.read_csv(url_train)\n",
        "test              = pd.read_csv(url_test)\n",
        "sample_submission = pd.read_csv(url_submission)"
      ],
      "execution_count": null,
      "outputs": []
    },
    {
      "cell_type": "code",
      "metadata": {
        "colab": {
          "base_uri": "https://localhost:8080/"
        },
        "id": "EqYuUB54G6iY",
        "outputId": "907f3d52-9519-448c-f96f-bae4837716df"
      },
      "source": [
        "# train test 분리\n",
        "X_train = np.array([x for x in train['text']])\n",
        "X_test = np.array([x for x in test['text']])\n",
        "y_train = np.array([x for x in train['author']])\n",
        "y = to_categorical(y_train)\n",
        "y"
      ],
      "execution_count": null,
      "outputs": [
        {
          "output_type": "execute_result",
          "data": {
            "text/plain": [
              "array([[0., 0., 0., 1., 0.],\n",
              "       [0., 0., 1., 0., 0.],\n",
              "       [0., 1., 0., 0., 0.],\n",
              "       ...,\n",
              "       [0., 1., 0., 0., 0.],\n",
              "       [0., 0., 0., 1., 0.],\n",
              "       [1., 0., 0., 0., 0.]], dtype=float32)"
            ]
          },
          "metadata": {
            "tags": []
          },
          "execution_count": 12
        }
      ]
    },
    {
      "cell_type": "code",
      "metadata": {
        "id": "L7HPxKhlmUGU"
      },
      "source": [
        "?set"
      ],
      "execution_count": null,
      "outputs": []
    },
    {
      "cell_type": "code",
      "metadata": {
        "id": "nje5AP6gI9O4"
      },
      "source": [
        "# Data 전처리\n",
        "def preprocess(text):\n",
        "    text = text.replace(\"' \", \" ' \")\n",
        "    signs = set(',.:;\"?!')\n",
        "    prods = set(text) & signs\n",
        "    if not prods:\n",
        "        return text\n",
        "\n",
        "    for sign in prods:\n",
        "        text = text.replace(sign, ' {} '.format(sign) )\n",
        "    return text"
      ],
      "execution_count": null,
      "outputs": []
    },
    {
      "cell_type": "code",
      "metadata": {
        "id": "OByUbFZbmq98"
      },
      "source": [
        ""
      ],
      "execution_count": null,
      "outputs": []
    },
    {
      "cell_type": "code",
      "metadata": {
        "id": "x6dqW588JD8K"
      },
      "source": [
        "#Train 데이터로부터 n-gram language 모델 사용\n",
        "def create_docs(df, n_gram_max=3):\n",
        "    def add_ngram(q, n_gram_max):\n",
        "            ngrams = []\n",
        "            for n in range(2, 4):\n",
        "                for w_index in range(len(q)-n+1):\n",
        "                    ngrams.append('--'.join(q[w_index:w_index+n]))\n",
        "            return q + ngrams\n",
        "        \n",
        "    docs = []\n",
        "    for doc in df.text:\n",
        "        doc = preprocess(doc).split()\n",
        "        docs.append(' '.join(add_ngram(doc, n_gram_max)))\n",
        "    \n",
        "    return docs"
      ],
      "execution_count": null,
      "outputs": []
    },
    {
      "cell_type": "code",
      "metadata": {
        "id": "xBn7b-S5JiG6"
      },
      "source": [
        "min_count = 2\n",
        "\n",
        "docs = create_docs(train)\n",
        "tokenizer = Tokenizer(lower=False, filters='')\n",
        "tokenizer.fit_on_texts(docs) \n",
        "num_words = sum([1 for _, v in tokenizer.word_counts.items() if v >= min_count]) #2번이상 사용한 단어로 토큰화\n",
        "\n",
        "tokenizer = Tokenizer(num_words=num_words, lower=False, filters='')\n",
        "tokenizer.fit_on_texts(docs) #빈도수를 기준으로 단어 집합을 생성 \n",
        "docs = tokenizer.texts_to_sequences(docs)\n",
        "\n",
        "maxlen = 256\n",
        "\n",
        "docs = pad_sequences(sequences=docs, maxlen=maxlen)  #Padding"
      ],
      "execution_count": null,
      "outputs": []
    },
    {
      "cell_type": "code",
      "metadata": {
        "id": "5kJGiUWtLCJe"
      },
      "source": [
        "# DNN architecture\n",
        "input_dim = np.max(docs) + 1\n",
        "embedding_dims = 20\n",
        "\n",
        "def create_model(embedding_dims=20, optimizer='adam'):\n",
        "    model = Sequential()\n",
        "    model.add(Embedding(input_dim=input_dim, output_dim=embedding_dims))\n",
        "    model.add(GlobalAveragePooling1D())\n",
        "    model.add(Dense(24, activation='relu'))\n",
        "    model.add(Dense(5, activation='softmax'))\n",
        "\n",
        "    model.compile(loss='categorical_crossentropy',\n",
        "                  optimizer=optimizer,\n",
        "                  metrics=['accuracy'])\n",
        "    return model"
      ],
      "execution_count": null,
      "outputs": []
    },
    {
      "cell_type": "code",
      "metadata": {
        "id": "vfCzycGCj4lZ"
      },
      "source": [
        "epochs = 25\n",
        "train_x, test_x, train_y, test_y = train_test_split(docs, y, test_size=0.2, random_state=7)"
      ],
      "execution_count": null,
      "outputs": []
    },
    {
      "cell_type": "code",
      "metadata": {
        "colab": {
          "base_uri": "https://localhost:8080/"
        },
        "id": "Ny2Ott0ijgde",
        "outputId": "412d68aa-dd3a-4957-b09d-f59b9186956e"
      },
      "source": [
        "import time\n",
        "start = time.time()\n",
        "model = create_model()\n",
        "hist = model.fit(train_x, train_y,\n",
        "                 batch_size=16,\n",
        "                 validation_data=(test_x, test_y),\n",
        "                 epochs=epochs,\n",
        "                 callbacks=[EarlyStopping(patience=2, monitor='val_loss')])\n",
        "\n",
        "print(\"실행시간 : \", time.time()-start,'s')"
      ],
      "execution_count": null,
      "outputs": [
        {
          "output_type": "stream",
          "text": [
            "Epoch 1/25\n",
            "2744/2744 [==============================] - 237s 86ms/step - loss: 1.1695 - accuracy: 0.5368 - val_loss: 0.7928 - val_accuracy: 0.7167\n",
            "Epoch 2/25\n",
            "2744/2744 [==============================] - 237s 86ms/step - loss: 0.5020 - accuracy: 0.8323 - val_loss: 0.5633 - val_accuracy: 0.8024\n",
            "Epoch 3/25\n",
            "2744/2744 [==============================] - 237s 86ms/step - loss: 0.2481 - accuracy: 0.9263 - val_loss: 0.5065 - val_accuracy: 0.8202\n",
            "Epoch 4/25\n",
            "2744/2744 [==============================] - 238s 87ms/step - loss: 0.1295 - accuracy: 0.9652 - val_loss: 0.5008 - val_accuracy: 0.8261\n",
            "Epoch 5/25\n",
            "2744/2744 [==============================] - 237s 86ms/step - loss: 0.0702 - accuracy: 0.9822 - val_loss: 0.5591 - val_accuracy: 0.8181\n",
            "Epoch 6/25\n",
            "2744/2744 [==============================] - 236s 86ms/step - loss: 0.0400 - accuracy: 0.9902 - val_loss: 0.5623 - val_accuracy: 0.8286\n",
            "실행시간 :  1422.9051268100739 s\n"
          ],
          "name": "stdout"
        }
      ]
    },
    {
      "cell_type": "code",
      "metadata": {
        "id": "3T1u8FqTMVuK"
      },
      "source": [
        "def test(t=test) :\n",
        "  docs = create_docs(t)\n",
        "  token = tokenizer.texts_to_sequences(docs)\n",
        "  padding = pad_sequences(sequences=token, maxlen=maxlen)\n",
        "  pred = model.predict(padding)\n",
        "  return pred"
      ],
      "execution_count": null,
      "outputs": []
    },
    {
      "cell_type": "code",
      "metadata": {
        "colab": {
          "base_uri": "https://localhost:8080/"
        },
        "id": "MKN84Ir-MWH9",
        "outputId": "639cf069-bcfe-4a10-c821-3810d5958225"
      },
      "source": [
        "start = time.time()\n",
        "result = test()\n",
        "print(\"실행시간 : \", time.time()-start,'s')"
      ],
      "execution_count": null,
      "outputs": [
        {
          "output_type": "stream",
          "text": [
            "실행시간 :  7.818409442901611 s\n"
          ],
          "name": "stdout"
        }
      ]
    },
    {
      "cell_type": "code",
      "metadata": {
        "colab": {
          "base_uri": "https://localhost:8080/"
        },
        "id": "F6EqB8F1NNXl",
        "outputId": "a46540b0-4395-4843-9b9a-79738859edcf"
      },
      "source": [
        "result"
      ],
      "execution_count": null,
      "outputs": [
        {
          "output_type": "execute_result",
          "data": {
            "text/plain": [
              "array([[4.7602825e-06, 9.9753654e-01, 2.4538797e-03, 4.8136581e-06,\n",
              "        1.3662501e-09],\n",
              "       [4.9125015e-06, 9.9936026e-01, 6.1134802e-04, 2.2133459e-05,\n",
              "        1.3951578e-06],\n",
              "       [1.0000000e+00, 4.0021320e-08, 7.6073777e-13, 1.1941888e-08,\n",
              "        6.4450658e-09],\n",
              "       ...,\n",
              "       [4.0212985e-06, 9.9999595e-01, 3.9731868e-10, 5.8444437e-11,\n",
              "        1.2672596e-10],\n",
              "       [8.9800416e-09, 9.9999988e-01, 6.7974490e-08, 3.0172468e-12,\n",
              "        1.8840457e-10],\n",
              "       [9.9962640e-01, 2.0243125e-09, 6.8953415e-10, 3.1813968e-11,\n",
              "        3.7356245e-04]], dtype=float32)"
            ]
          },
          "metadata": {
            "tags": []
          },
          "execution_count": 21
        }
      ]
    },
    {
      "cell_type": "code",
      "metadata": {
        "colab": {
          "base_uri": "https://localhost:8080/"
        },
        "id": "feEBWvGcT_lM",
        "outputId": "ff34b62c-4073-44f8-cbd3-192a34948ebd"
      },
      "source": [
        "sample_submission.columns"
      ],
      "execution_count": null,
      "outputs": [
        {
          "output_type": "execute_result",
          "data": {
            "text/plain": [
              "Index(['index', '0', '1', '2', '3', '4'], dtype='object')"
            ]
          },
          "metadata": {
            "tags": []
          },
          "execution_count": 22
        }
      ]
    },
    {
      "cell_type": "code",
      "metadata": {
        "id": "BjQZwWCkUUmE"
      },
      "source": [
        "sample_submission[sample_submission.columns[1:6]] = result"
      ],
      "execution_count": null,
      "outputs": []
    },
    {
      "cell_type": "code",
      "metadata": {
        "colab": {
          "base_uri": "https://localhost:8080/",
          "height": 340
        },
        "id": "VPdcATNlUeBW",
        "outputId": "5fb1be7e-d0ef-4ad3-9260-8ef79f0d01e9"
      },
      "source": [
        "sample_submission[:10]"
      ],
      "execution_count": null,
      "outputs": [
        {
          "output_type": "execute_result",
          "data": {
            "text/html": [
              "<div>\n",
              "<style scoped>\n",
              "    .dataframe tbody tr th:only-of-type {\n",
              "        vertical-align: middle;\n",
              "    }\n",
              "\n",
              "    .dataframe tbody tr th {\n",
              "        vertical-align: top;\n",
              "    }\n",
              "\n",
              "    .dataframe thead th {\n",
              "        text-align: right;\n",
              "    }\n",
              "</style>\n",
              "<table border=\"1\" class=\"dataframe\">\n",
              "  <thead>\n",
              "    <tr style=\"text-align: right;\">\n",
              "      <th></th>\n",
              "      <th>index</th>\n",
              "      <th>0</th>\n",
              "      <th>1</th>\n",
              "      <th>2</th>\n",
              "      <th>3</th>\n",
              "      <th>4</th>\n",
              "    </tr>\n",
              "  </thead>\n",
              "  <tbody>\n",
              "    <tr>\n",
              "      <th>0</th>\n",
              "      <td>0</td>\n",
              "      <td>0.000240</td>\n",
              "      <td>9.978201e-01</td>\n",
              "      <td>1.876129e-03</td>\n",
              "      <td>6.338787e-05</td>\n",
              "      <td>3.951650e-07</td>\n",
              "    </tr>\n",
              "    <tr>\n",
              "      <th>1</th>\n",
              "      <td>1</td>\n",
              "      <td>0.000145</td>\n",
              "      <td>9.994617e-01</td>\n",
              "      <td>1.743591e-05</td>\n",
              "      <td>3.000248e-04</td>\n",
              "      <td>7.591779e-05</td>\n",
              "    </tr>\n",
              "    <tr>\n",
              "      <th>2</th>\n",
              "      <td>2</td>\n",
              "      <td>0.999995</td>\n",
              "      <td>4.310918e-06</td>\n",
              "      <td>8.408298e-09</td>\n",
              "      <td>2.967679e-07</td>\n",
              "      <td>2.023247e-07</td>\n",
              "    </tr>\n",
              "    <tr>\n",
              "      <th>3</th>\n",
              "      <td>3</td>\n",
              "      <td>0.002097</td>\n",
              "      <td>2.319220e-08</td>\n",
              "      <td>9.977470e-01</td>\n",
              "      <td>1.025528e-05</td>\n",
              "      <td>1.459676e-04</td>\n",
              "    </tr>\n",
              "    <tr>\n",
              "      <th>4</th>\n",
              "      <td>4</td>\n",
              "      <td>0.999756</td>\n",
              "      <td>2.167622e-04</td>\n",
              "      <td>6.107567e-07</td>\n",
              "      <td>8.967370e-06</td>\n",
              "      <td>1.798590e-05</td>\n",
              "    </tr>\n",
              "    <tr>\n",
              "      <th>5</th>\n",
              "      <td>5</td>\n",
              "      <td>0.000078</td>\n",
              "      <td>1.720144e-05</td>\n",
              "      <td>2.455003e-04</td>\n",
              "      <td>9.996545e-01</td>\n",
              "      <td>5.063512e-06</td>\n",
              "    </tr>\n",
              "    <tr>\n",
              "      <th>6</th>\n",
              "      <td>6</td>\n",
              "      <td>0.008161</td>\n",
              "      <td>1.968044e-04</td>\n",
              "      <td>1.750527e-01</td>\n",
              "      <td>8.157897e-01</td>\n",
              "      <td>8.000879e-04</td>\n",
              "    </tr>\n",
              "    <tr>\n",
              "      <th>7</th>\n",
              "      <td>7</td>\n",
              "      <td>0.991946</td>\n",
              "      <td>4.740449e-03</td>\n",
              "      <td>1.171765e-04</td>\n",
              "      <td>2.021521e-04</td>\n",
              "      <td>2.994342e-03</td>\n",
              "    </tr>\n",
              "    <tr>\n",
              "      <th>8</th>\n",
              "      <td>8</td>\n",
              "      <td>0.999992</td>\n",
              "      <td>7.491814e-06</td>\n",
              "      <td>5.744236e-09</td>\n",
              "      <td>1.526828e-13</td>\n",
              "      <td>5.503095e-08</td>\n",
              "    </tr>\n",
              "    <tr>\n",
              "      <th>9</th>\n",
              "      <td>9</td>\n",
              "      <td>0.358187</td>\n",
              "      <td>6.203240e-01</td>\n",
              "      <td>4.795769e-03</td>\n",
              "      <td>1.516228e-02</td>\n",
              "      <td>1.531404e-03</td>\n",
              "    </tr>\n",
              "  </tbody>\n",
              "</table>\n",
              "</div>"
            ],
            "text/plain": [
              "   index         0             1             2             3             4\n",
              "0      0  0.000240  9.978201e-01  1.876129e-03  6.338787e-05  3.951650e-07\n",
              "1      1  0.000145  9.994617e-01  1.743591e-05  3.000248e-04  7.591779e-05\n",
              "2      2  0.999995  4.310918e-06  8.408298e-09  2.967679e-07  2.023247e-07\n",
              "3      3  0.002097  2.319220e-08  9.977470e-01  1.025528e-05  1.459676e-04\n",
              "4      4  0.999756  2.167622e-04  6.107567e-07  8.967370e-06  1.798590e-05\n",
              "5      5  0.000078  1.720144e-05  2.455003e-04  9.996545e-01  5.063512e-06\n",
              "6      6  0.008161  1.968044e-04  1.750527e-01  8.157897e-01  8.000879e-04\n",
              "7      7  0.991946  4.740449e-03  1.171765e-04  2.021521e-04  2.994342e-03\n",
              "8      8  0.999992  7.491814e-06  5.744236e-09  1.526828e-13  5.503095e-08\n",
              "9      9  0.358187  6.203240e-01  4.795769e-03  1.516228e-02  1.531404e-03"
            ]
          },
          "metadata": {
            "tags": []
          },
          "execution_count": 46
        }
      ]
    },
    {
      "cell_type": "code",
      "metadata": {
        "id": "BQdK2YBEUjLv",
        "colab": {
          "base_uri": "https://localhost:8080/",
          "height": 17
        },
        "outputId": "c88f2c7b-37fa-45cc-8da7-48041fe8788c"
      },
      "source": [
        "from google.colab import files\n",
        "sample_submission.to_csv('DNN.csv')\n",
        "files.download('DNN.csv')"
      ],
      "execution_count": null,
      "outputs": [
        {
          "output_type": "display_data",
          "data": {
            "application/javascript": [
              "\n",
              "    async function download(id, filename, size) {\n",
              "      if (!google.colab.kernel.accessAllowed) {\n",
              "        return;\n",
              "      }\n",
              "      const div = document.createElement('div');\n",
              "      const label = document.createElement('label');\n",
              "      label.textContent = `Downloading \"${filename}\": `;\n",
              "      div.appendChild(label);\n",
              "      const progress = document.createElement('progress');\n",
              "      progress.max = size;\n",
              "      div.appendChild(progress);\n",
              "      document.body.appendChild(div);\n",
              "\n",
              "      const buffers = [];\n",
              "      let downloaded = 0;\n",
              "\n",
              "      const channel = await google.colab.kernel.comms.open(id);\n",
              "      // Send a message to notify the kernel that we're ready.\n",
              "      channel.send({})\n",
              "\n",
              "      for await (const message of channel.messages) {\n",
              "        // Send a message to notify the kernel that we're ready.\n",
              "        channel.send({})\n",
              "        if (message.buffers) {\n",
              "          for (const buffer of message.buffers) {\n",
              "            buffers.push(buffer);\n",
              "            downloaded += buffer.byteLength;\n",
              "            progress.value = downloaded;\n",
              "          }\n",
              "        }\n",
              "      }\n",
              "      const blob = new Blob(buffers, {type: 'application/binary'});\n",
              "      const a = document.createElement('a');\n",
              "      a.href = window.URL.createObjectURL(blob);\n",
              "      a.download = filename;\n",
              "      div.appendChild(a);\n",
              "      a.click();\n",
              "      div.remove();\n",
              "    }\n",
              "  "
            ],
            "text/plain": [
              "<IPython.core.display.Javascript object>"
            ]
          },
          "metadata": {
            "tags": []
          }
        },
        {
          "output_type": "display_data",
          "data": {
            "application/javascript": [
              "download(\"download_7a6fda5a-eee7-4d9d-80b8-8abb6207900b\", \"DNN.csv\", 2278996)"
            ],
            "text/plain": [
              "<IPython.core.display.Javascript object>"
            ]
          },
          "metadata": {
            "tags": []
          }
        }
      ]
    },
    {
      "cell_type": "code",
      "metadata": {
        "id": "TYeSS7EFlUAZ"
      },
      "source": [
        ""
      ],
      "execution_count": null,
      "outputs": []
    }
  ]
}